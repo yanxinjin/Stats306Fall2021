{
  "nbformat": 4,
  "nbformat_minor": 0,
  "metadata": {
    "kernelspec": {
      "display_name": "R",
      "language": "R",
      "name": "ir"
    },
    "language_info": {
      "codemirror_mode": "r",
      "file_extension": ".r",
      "mimetype": "text/x-r-source",
      "name": "R",
      "pygments_lexer": "r",
      "version": "4.0.3"
    },
    "colab": {
      "name": "Lab 10.ipynb",
      "provenance": []
    }
  },
  "cells": [
    {
      "cell_type": "markdown",
      "metadata": {
        "id": "GAZbTvh43O8W"
      },
      "source": [
        "# Lab 07\n"
      ]
    },
    {
      "cell_type": "markdown",
      "metadata": {
        "id": "rNtYI1g-3O8X"
      },
      "source": [
        "Overview:\n",
        "1.  Lifecycle of a data analysis\n",
        "1.  Project Rubric\n",
        "1.  Example project (from RPubs)"
      ]
    },
    {
      "cell_type": "markdown",
      "metadata": {
        "id": "aDeO8IgW3O8Y"
      },
      "source": [
        "# Lifecycle of a data-analysis"
      ]
    },
    {
      "cell_type": "markdown",
      "metadata": {
        "id": "BXBDIjKC3O8Z"
      },
      "source": [
        "See: https://r4ds.had.co.nz/exploratory-data-analysis.html"
      ]
    },
    {
      "cell_type": "markdown",
      "metadata": {
        "id": "1m-TeWEM3O8Z"
      },
      "source": [
        "         \n",
        "## Wrangle\n",
        "![](https://raw.githubusercontent.com/dereklhansen/stats306_lab/master/lab10/diagrams/data-science-wrangle.png)\n",
        "\n",
        "-  **Import:** Download the data you will be using, along with any materials such as data dictionaries.\n",
        "    -  Keep it in a folder called ```input/``` which is only read and never modified.\n",
        "    -  For your project, we handle most of this for you, but you should do some groundwork to figure out where the data come from.\n",
        "-  **Tidy:** Manipulate the data so it is tabular and has a coherent structure (c.f. R4DS Ch. 12). \n",
        "-  **Transform:** Filter, select, and join different datasets in the right form for a particular visual and/or model."
      ]
    },
    {
      "cell_type": "markdown",
      "metadata": {
        "id": "esDXNu3A3O8Z"
      },
      "source": [
        "**Exercise**: What is the difference between **tidying** and **transforming**?"
      ]
    },
    {
      "cell_type": "markdown",
      "metadata": {
        "id": "sD6ZXLVI3O8a"
      },
      "source": [
        "**Answer**: \n",
        "-  Tidying data does not add or destroy information. The goal is to get data into tibbles that are amenable to data analysis. Data should be tidied once in the beginning of a data analysis, and it should be done independently of your particular research question.\n",
        "-  Transforming data is done once you have a particular question in mind. You may remove irrelevant columns and rows in this step, join together tables that have variables of interest, and create new variables of interest\n",
        "\n",
        "-  In general, functions related to \"tidying\" data are in the \"tidyr\" package, and functions related to \"transforming\" data are in the dplyr package. However, there are cases where you will use dplyr functions when tidying and tidyr functions when transforming"
      ]
    },
    {
      "cell_type": "markdown",
      "metadata": {
        "id": "Ti1GHk5S3O8a"
      },
      "source": [
        "   \n",
        "## Exploratory Data Anaylsis\n",
        "\n",
        "![](https://raw.githubusercontent.com/dereklhansen/stats306_lab/master/lab10/diagrams/data-science-explore.png)\n",
        "\n",
        "\n",
        "- Exploratory Data Analysis (EDA) is the process of generating questions, investigating them, and using what we learn to refine questions or ask new ones\n",
        "\n",
        "- In the beginning, the goal is to ask a large number of questions and narrow it down as we learn more about our data.\n",
        "\n",
        "- There isn't a one-size-fits-all solution. EDA requires a bit of creativity and confidence to explore."
      ]
    },
    {
      "cell_type": "markdown",
      "metadata": {
        "id": "LfmQCR5B3O8b"
      },
      "source": [
        "![](https://raw.githubusercontent.com/dereklhansen/stats306_lab/master/lab10/diagrams/data-science.png)\n",
        "\n",
        "\n",
        "-  **Transform:** Filter, select, and join different datasets in the right form for a particular visual and/or model.\n",
        "-  **Visualize:** See relationships in the transformed dataset and decide if it's worth modelling\n",
        "- **Model:** Run a statistical model on the data to perform inference and confirmatory analysis"
      ]
    },
    {
      "cell_type": "markdown",
      "metadata": {
        "id": "a7eEtdls3O8b"
      },
      "source": [
        "## Basic Questions\n",
        "-  While every dataset is different, basic questions about data come in two forms (R4DS):\n",
        "1.  What type of **variation** occurs within my variables?\n",
        "2.  What type of **covariation** occurs between my two variables?\n",
        "\n",
        "- These guiding principles can keep you on track, but won't be too useful on their own.\n"
      ]
    },
    {
      "cell_type": "markdown",
      "metadata": {
        "id": "yTP5Wb003O8c"
      },
      "source": [
        "## Communicate\n",
        "\n",
        "![](https://raw.githubusercontent.com/dereklhansen/stats306_lab/master/lab10/diagrams/data-science-communicate.png)\n",
        "\n",
        "- **Communicate:** Publish the successful Transform-Visualize-Model cycles"
      ]
    },
    {
      "cell_type": "markdown",
      "metadata": {
        "id": "9j6NGWSS3O8c"
      },
      "source": [
        "# Final Project Rubric\n",
        "\n",
        "-  Rubric is available on Canvas\n",
        "-  One very important thing: we expect the report to be turned in as a standalone HTML file. We will NOT run any of your code, so make sure everything shows up\n",
        "   -  To do this, File -> Download as -> HTML (.html)\n",
        "   -  If you have problems with the final report, contact your GSI and the professor WELL BEFORE the deadline\n",
        "-  Walkthrough in-lab"
      ]
    },
    {
      "cell_type": "markdown",
      "metadata": {
        "id": "Vy9U5dos3O8c"
      },
      "source": [
        "# Example Project"
      ]
    },
    {
      "cell_type": "markdown",
      "metadata": {
        "id": "ZqGhTSZb3O8d"
      },
      "source": [
        "-  We'll look at this example report from RPubs: https://rpubs.com/bradleyboehmke/final_project_example\n",
        "-  Note that this was for a different class, so some requirements may be different for your final. But this should give you a good idea of what a good report will look like.\n",
        "-  For some inspiration, you can find a nice gallery of plots at https://www.r-graph-gallery.com/"
      ]
    }
  ]
}