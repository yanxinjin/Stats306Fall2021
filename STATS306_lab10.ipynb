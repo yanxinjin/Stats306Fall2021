{
  "nbformat": 4,
  "nbformat_minor": 0,
  "metadata": {
    "kernelspec": {
      "display_name": "R",
      "language": "R",
      "name": "ir"
    },
    "language_info": {
      "codemirror_mode": "r",
      "file_extension": ".r",
      "mimetype": "text/x-r-source",
      "name": "R",
      "pygments_lexer": "r",
      "version": "4.0.3"
    },
    "colab": {
      "name": "STATS306_lab10.ipynb",
      "provenance": []
    }
  },
  "cells": [
    {
      "cell_type": "markdown",
      "metadata": {
        "id": "g6rhfWu07FnI"
      },
      "source": [
        "# **Lab 10: Functions, vectors and lists**"
      ]
    },
    {
      "cell_type": "code",
      "metadata": {
        "id": "zyJqN5SU7FnL",
        "outputId": "7a94ef4a-ce88-4cb9-ea44-8a2fe2a09577"
      },
      "source": [
        "library(tidyverse)"
      ],
      "execution_count": null,
      "outputs": [
        {
          "name": "stderr",
          "output_type": "stream",
          "text": [
            "Warning message:\n",
            "“replacing previous import ‘vctrs::data_frame’ by ‘tibble::data_frame’ when loading ‘dplyr’”\n",
            "── \u001b[1mAttaching packages\u001b[22m ─────────────────────────────────────── tidyverse 1.3.0 ──\n",
            "\n",
            "\u001b[32m✔\u001b[39m \u001b[34mggplot2\u001b[39m 3.3.2     \u001b[32m✔\u001b[39m \u001b[34mpurrr  \u001b[39m 0.3.4\n",
            "\u001b[32m✔\u001b[39m \u001b[34mtibble \u001b[39m 3.0.3     \u001b[32m✔\u001b[39m \u001b[34mdplyr  \u001b[39m 1.0.0\n",
            "\u001b[32m✔\u001b[39m \u001b[34mtidyr  \u001b[39m 1.1.0     \u001b[32m✔\u001b[39m \u001b[34mstringr\u001b[39m 1.4.0\n",
            "\u001b[32m✔\u001b[39m \u001b[34mreadr  \u001b[39m 1.3.1     \u001b[32m✔\u001b[39m \u001b[34mforcats\u001b[39m 0.5.0\n",
            "\n",
            "── \u001b[1mConflicts\u001b[22m ────────────────────────────────────────── tidyverse_conflicts() ──\n",
            "\u001b[31m✖\u001b[39m \u001b[34mdplyr\u001b[39m::\u001b[32mfilter()\u001b[39m masks \u001b[34mstats\u001b[39m::filter()\n",
            "\u001b[31m✖\u001b[39m \u001b[34mdplyr\u001b[39m::\u001b[32mlag()\u001b[39m    masks \u001b[34mstats\u001b[39m::lag()\n",
            "\n"
          ]
        }
      ]
    },
    {
      "cell_type": "markdown",
      "metadata": {
        "id": "mJFXvpzF7FnM"
      },
      "source": [
        "## Anatomy of a function\n",
        "To write a function we should first think about the inputs and output. A function takes input(s), does something(s) to them, and then returns an output."
      ]
    },
    {
      "cell_type": "markdown",
      "metadata": {
        "id": "vKARVStm7FnN"
      },
      "source": [
        "What are the input(s) and output of our normalize function?"
      ]
    },
    {
      "cell_type": "code",
      "metadata": {
        "id": "WlptBHMM7FnN"
      },
      "source": [
        "df$a <- (df$a - min(df$a, na.rm = TRUE)) / (max(df$a, na.rm = TRUE) - min(df$a, na.rm = TRUE))"
      ],
      "execution_count": null,
      "outputs": []
    },
    {
      "cell_type": "code",
      "metadata": {
        "id": "0pTKOffZ7FnO",
        "outputId": "e174a12a-79d9-4d7d-8630-218c46de5e0b"
      },
      "source": [
        "rescale01 <- function(x) {\n",
        "#  ^ function name   ^ function argument (input vector)\n",
        "    (x - min(x, na.rm = TRUE)) / (max(x, na.rm = TRUE) - min(x, na.rm = TRUE))\n",
        "#   ^ function output\n",
        "}\n",
        "x = c(1:10, Inf)\n",
        "rescale01(x)"
      ],
      "execution_count": null,
      "outputs": [
        {
          "data": {
            "text/html": [
              "<style>\n",
              ".list-inline {list-style: none; margin:0; padding: 0}\n",
              ".list-inline>li {display: inline-block}\n",
              ".list-inline>li:not(:last-child)::after {content: \"\\00b7\"; padding: 0 .5ex}\n",
              "</style>\n",
              "<ol class=list-inline><li>0</li><li>0</li><li>0</li><li>0</li><li>0</li><li>0</li><li>0</li><li>0</li><li>0</li><li>0</li><li>NaN</li></ol>\n"
            ],
            "text/latex": [
              "\\begin{enumerate*}\n",
              "\\item 0\n",
              "\\item 0\n",
              "\\item 0\n",
              "\\item 0\n",
              "\\item 0\n",
              "\\item 0\n",
              "\\item 0\n",
              "\\item 0\n",
              "\\item 0\n",
              "\\item 0\n",
              "\\item NaN\n",
              "\\end{enumerate*}\n"
            ],
            "text/markdown": [
              "1. 0\n",
              "2. 0\n",
              "3. 0\n",
              "4. 0\n",
              "5. 0\n",
              "6. 0\n",
              "7. 0\n",
              "8. 0\n",
              "9. 0\n",
              "10. 0\n",
              "11. NaN\n",
              "\n",
              "\n"
            ],
            "text/plain": [
              " [1]   0   0   0   0   0   0   0   0   0   0 NaN"
            ]
          },
          "metadata": {},
          "output_type": "display_data"
        }
      ]
    },
    {
      "cell_type": "markdown",
      "metadata": {
        "id": "OAVQGX_u7FnP"
      },
      "source": [
        "\n",
        "We have turned up a bug in our function! But since the code now all lives in one place, we can fix the function once rather than having to chase down the bug every place that we copied and pasted the code."
      ]
    },
    {
      "cell_type": "code",
      "metadata": {
        "id": "4POh_QKP7FnP",
        "outputId": "f8205588-0ed9-4eeb-e984-9fd29978063d"
      },
      "source": [
        "rescale01 = function(x) {\n",
        "  rng = range(x, na.rm = TRUE, finite = TRUE)\n",
        "  (x - rng[1]) / (rng[2] - rng[1])\n",
        "}\n",
        "rescale01(x)"
      ],
      "execution_count": null,
      "outputs": [
        {
          "data": {
            "text/html": [
              "<style>\n",
              ".list-inline {list-style: none; margin:0; padding: 0}\n",
              ".list-inline>li {display: inline-block}\n",
              ".list-inline>li:not(:last-child)::after {content: \"\\00b7\"; padding: 0 .5ex}\n",
              "</style>\n",
              "<ol class=list-inline><li>0</li><li>0.111111111111111</li><li>0.222222222222222</li><li>0.333333333333333</li><li>0.444444444444444</li><li>0.555555555555556</li><li>0.666666666666667</li><li>0.777777777777778</li><li>0.888888888888889</li><li>1</li><li>Inf</li></ol>\n"
            ],
            "text/latex": [
              "\\begin{enumerate*}\n",
              "\\item 0\n",
              "\\item 0.111111111111111\n",
              "\\item 0.222222222222222\n",
              "\\item 0.333333333333333\n",
              "\\item 0.444444444444444\n",
              "\\item 0.555555555555556\n",
              "\\item 0.666666666666667\n",
              "\\item 0.777777777777778\n",
              "\\item 0.888888888888889\n",
              "\\item 1\n",
              "\\item Inf\n",
              "\\end{enumerate*}\n"
            ],
            "text/markdown": [
              "1. 0\n",
              "2. 0.111111111111111\n",
              "3. 0.222222222222222\n",
              "4. 0.333333333333333\n",
              "5. 0.444444444444444\n",
              "6. 0.555555555555556\n",
              "7. 0.666666666666667\n",
              "8. 0.777777777777778\n",
              "9. 0.888888888888889\n",
              "10. 1\n",
              "11. Inf\n",
              "\n",
              "\n"
            ],
            "text/plain": [
              " [1] 0.0000000 0.1111111 0.2222222 0.3333333 0.4444444 0.5555556 0.6666667\n",
              " [8] 0.7777778 0.8888889 1.0000000       Inf"
            ]
          },
          "metadata": {},
          "output_type": "display_data"
        }
      ]
    },
    {
      "cell_type": "markdown",
      "metadata": {
        "id": "NdJ_cVqt7FnQ"
      },
      "source": [
        "## Conditions"
      ]
    },
    {
      "cell_type": "markdown",
      "metadata": {
        "id": "bmnj7Pc17FnQ"
      },
      "source": [
        "The condition part of the if statement must evaluate to either a single TRUE or FALSE. If it does not, you will get a warning:"
      ]
    },
    {
      "cell_type": "code",
      "metadata": {
        "id": "DrRpirkF7FnQ",
        "outputId": "347f9449-cf30-48ff-cb0a-ba2e0ade53a5"
      },
      "source": [
        "if (c(T, F)) { 1 }"
      ],
      "execution_count": null,
      "outputs": [
        {
          "name": "stderr",
          "output_type": "stream",
          "text": [
            "Warning message in if (c(T, F)) {:\n",
            "“the condition has length > 1 and only the first element will be used”"
          ]
        },
        {
          "data": {
            "text/html": [
              "1"
            ],
            "text/latex": [
              "1"
            ],
            "text/markdown": [
              "1"
            ],
            "text/plain": [
              "[1] 1"
            ]
          },
          "metadata": {},
          "output_type": "display_data"
        }
      ]
    },
    {
      "cell_type": "markdown",
      "metadata": {
        "id": "PhRj7noW7FnR"
      },
      "source": [
        "Similarly, a condition of NA will generate an error:"
      ]
    },
    {
      "cell_type": "code",
      "metadata": {
        "id": "Y1iBSc9c7FnR",
        "outputId": "711adba0-6ab4-46e0-9b50-d2b4ca74e0b9"
      },
      "source": [
        "if (NA) { 1 }"
      ],
      "execution_count": null,
      "outputs": [
        {
          "ename": "ERROR",
          "evalue": "Error in if (NA) {: missing value where TRUE/FALSE needed\n",
          "output_type": "error",
          "traceback": [
            "Error in if (NA) {: missing value where TRUE/FALSE needed\nTraceback:\n"
          ]
        }
      ]
    },
    {
      "cell_type": "markdown",
      "metadata": {
        "id": "g11fXTtf7FnS"
      },
      "source": [
        "### Logical operators"
      ]
    },
    {
      "cell_type": "markdown",
      "metadata": {
        "id": "xQSrmcDu7FnS"
      },
      "source": [
        "Often you will need to combine multiple logical conditions in an if statement. To do this we have the `&&` and `||` operators, which take the logical and and or, respectively, of several logical conditions:"
      ]
    },
    {
      "cell_type": "code",
      "metadata": {
        "id": "rlCWrWbs7FnT",
        "outputId": "a8730d65-bd1d-4581-d3c7-d6d3351d296b"
      },
      "source": [
        "TRUE && FALSE && TRUE"
      ],
      "execution_count": null,
      "outputs": [
        {
          "data": {
            "text/html": [
              "FALSE"
            ],
            "text/latex": [
              "FALSE"
            ],
            "text/markdown": [
              "FALSE"
            ],
            "text/plain": [
              "[1] FALSE"
            ]
          },
          "metadata": {},
          "output_type": "display_data"
        }
      ]
    },
    {
      "cell_type": "code",
      "metadata": {
        "id": "lQDK7pNw7FnT",
        "outputId": "f5eb7af1-24bf-4640-a0f6-5df398f5c3cf"
      },
      "source": [
        "FALSE || TRUE || FALSE"
      ],
      "execution_count": null,
      "outputs": [
        {
          "data": {
            "text/html": [
              "TRUE"
            ],
            "text/latex": [
              "TRUE"
            ],
            "text/markdown": [
              "TRUE"
            ],
            "text/plain": [
              "[1] TRUE"
            ]
          },
          "metadata": {},
          "output_type": "display_data"
        }
      ]
    },
    {
      "cell_type": "markdown",
      "metadata": {
        "id": "yJF1WVBS7FnT"
      },
      "source": [
        "There is a subtle but important difference betwen the single and double versions of these operators. The single `&` performs entrywise AND over logical vectors:"
      ]
    },
    {
      "cell_type": "code",
      "metadata": {
        "id": "cJVnXAX37FnU",
        "outputId": "a27ea089-7a77-430a-c17e-d201bf542646"
      },
      "source": [
        "c(T, T, F) & c(F, T, F)"
      ],
      "execution_count": null,
      "outputs": [
        {
          "data": {
            "text/html": [
              "<ol class=list-inline>\n",
              "\t<li>FALSE</li>\n",
              "\t<li>TRUE</li>\n",
              "\t<li>FALSE</li>\n",
              "</ol>\n"
            ],
            "text/latex": [
              "\\begin{enumerate*}\n",
              "\\item FALSE\n",
              "\\item TRUE\n",
              "\\item FALSE\n",
              "\\end{enumerate*}\n"
            ],
            "text/markdown": [
              "1. FALSE\n",
              "2. TRUE\n",
              "3. FALSE\n",
              "\n",
              "\n"
            ],
            "text/plain": [
              "[1] FALSE  TRUE FALSE"
            ]
          },
          "metadata": {},
          "output_type": "display_data"
        }
      ]
    },
    {
      "cell_type": "markdown",
      "metadata": {
        "id": "3yYeIKf77FnU"
      },
      "source": [
        "In contrast, the double ampersand `&&` returns `F` as soon as it encounters a value of `F`:"
      ]
    },
    {
      "cell_type": "code",
      "metadata": {
        "id": "3124yYTp7FnV",
        "outputId": "ba2776e1-3dd8-4802-e88b-156b3dad2415"
      },
      "source": [
        "c(T, T, T) && c(F, T, F)"
      ],
      "execution_count": null,
      "outputs": [
        {
          "data": {
            "text/html": [
              "FALSE"
            ],
            "text/latex": [
              "FALSE"
            ],
            "text/markdown": [
              "FALSE"
            ],
            "text/plain": [
              "[1] FALSE"
            ]
          },
          "metadata": {},
          "output_type": "display_data"
        }
      ]
    },
    {
      "cell_type": "markdown",
      "metadata": {
        "id": "lnFH7M-d7FnV"
      },
      "source": [
        "It only returns `T` if it gets to the end of a vector without finding any `F` values:"
      ]
    },
    {
      "cell_type": "code",
      "metadata": {
        "id": "VNeFRx1k7FnV",
        "outputId": "cb690dd6-7de3-430e-f4cd-a5a80b759768"
      },
      "source": [
        "c(T, T, T) && c(T, T, T)"
      ],
      "execution_count": null,
      "outputs": [
        {
          "data": {
            "text/html": [
              "TRUE"
            ],
            "text/latex": [
              "TRUE"
            ],
            "text/markdown": [
              "TRUE"
            ],
            "text/plain": [
              "[1] TRUE"
            ]
          },
          "metadata": {},
          "output_type": "display_data"
        }
      ]
    },
    {
      "cell_type": "markdown",
      "metadata": {
        "id": "DJpLkjur7FnW"
      },
      "source": [
        "This is known as \"short-circuiting\": R can stop evaluating as soon as it hits one false value, since this will cause the & to return false:"
      ]
    },
    {
      "cell_type": "code",
      "metadata": {
        "id": "XYJrO0mn7FnW",
        "outputId": "c1ce492a-0b87-4baa-8cfb-f7e9506066ab"
      },
      "source": [
        "f = function() { print(\"f called\"); F }\n",
        "g = function() { print(\"g called\"); T }\n",
        "f() && g()\n",
        "\n",
        "g() && f()"
      ],
      "execution_count": null,
      "outputs": [
        {
          "name": "stdout",
          "output_type": "stream",
          "text": [
            "[1] \"f called\"\n"
          ]
        },
        {
          "data": {
            "text/html": [
              "FALSE"
            ],
            "text/latex": [
              "FALSE"
            ],
            "text/markdown": [
              "FALSE"
            ],
            "text/plain": [
              "[1] FALSE"
            ]
          },
          "metadata": {},
          "output_type": "display_data"
        },
        {
          "name": "stdout",
          "output_type": "stream",
          "text": [
            "[1] \"g called\"\n",
            "[1] \"f called\"\n"
          ]
        },
        {
          "data": {
            "text/html": [
              "FALSE"
            ],
            "text/latex": [
              "FALSE"
            ],
            "text/markdown": [
              "FALSE"
            ],
            "text/plain": [
              "[1] FALSE"
            ]
          },
          "metadata": {},
          "output_type": "display_data"
        }
      ]
    },
    {
      "cell_type": "markdown",
      "metadata": {
        "id": "1gkAbE8i7FnW"
      },
      "source": [
        "The or operator works similarly:"
      ]
    },
    {
      "cell_type": "code",
      "metadata": {
        "id": "z29p4GbG7FnX",
        "outputId": "5d3f5676-9370-4f2d-dd39-99f81a993bad"
      },
      "source": [
        "g() || f()\n",
        "\n",
        "f() || g()"
      ],
      "execution_count": null,
      "outputs": [
        {
          "name": "stdout",
          "output_type": "stream",
          "text": [
            "[1] \"g called\"\n"
          ]
        },
        {
          "data": {
            "text/html": [
              "TRUE"
            ],
            "text/latex": [
              "TRUE"
            ],
            "text/markdown": [
              "TRUE"
            ],
            "text/plain": [
              "[1] TRUE"
            ]
          },
          "metadata": {},
          "output_type": "display_data"
        },
        {
          "name": "stdout",
          "output_type": "stream",
          "text": [
            "[1] \"f called\"\n",
            "[1] \"g called\"\n"
          ]
        },
        {
          "data": {
            "text/html": [
              "TRUE"
            ],
            "text/latex": [
              "TRUE"
            ],
            "text/markdown": [
              "TRUE"
            ],
            "text/plain": [
              "[1] TRUE"
            ]
          },
          "metadata": {},
          "output_type": "display_data"
        }
      ]
    },
    {
      "cell_type": "markdown",
      "metadata": {
        "id": "3heRxURn7FnX"
      },
      "source": [
        "### Testing for equality\n",
        "\n",
        "Be careful when testing for equality in conditionals. The == operator will return a vector of logicals. If you want to make sure that any/all entries of a vector are TRUE, use the any() or all() functions:"
      ]
    },
    {
      "cell_type": "code",
      "metadata": {
        "id": "pnHFRXk17FnX",
        "outputId": "d934f7b9-36b2-4791-9adc-af744f01d0c6"
      },
      "source": [
        "v1 = c(1, 2, 3)\n",
        "v2 = c(1, 1, 2)\n",
        "if (v1 == v2) { print(\"Wrong!\") }\n",
        "if (all(v1 == v2)) { print(\"All!\") }\n",
        "if (any(v1 == v2)) { print(\"Any!\") }"
      ],
      "execution_count": null,
      "outputs": [
        {
          "name": "stderr",
          "output_type": "stream",
          "text": [
            "Warning message in if (v1 == v2) {:\n",
            "“the condition has length > 1 and only the first element will be used”"
          ]
        },
        {
          "name": "stdout",
          "output_type": "stream",
          "text": [
            "[1] \"Wrong!\"\n",
            "[1] \"Any!\"\n"
          ]
        }
      ]
    },
    {
      "cell_type": "markdown",
      "metadata": {
        "id": "4vhQ-TpX7FnY"
      },
      "source": [
        "Also be wary of testing floating point numbers for equality:"
      ]
    },
    {
      "cell_type": "code",
      "metadata": {
        "id": "afixi2gL7FnY",
        "outputId": "d530706e-eead-4903-e597-685db351920a"
      },
      "source": [
        "2 == sqrt(2) ^ 2"
      ],
      "execution_count": null,
      "outputs": [
        {
          "data": {
            "text/html": [
              "FALSE"
            ],
            "text/latex": [
              "FALSE"
            ],
            "text/markdown": [
              "FALSE"
            ],
            "text/plain": [
              "[1] FALSE"
            ]
          },
          "metadata": {},
          "output_type": "display_data"
        }
      ]
    },
    {
      "cell_type": "code",
      "metadata": {
        "id": "zW6WlmY87FnY",
        "outputId": "4ef5bc7f-db0b-4586-f335-b9127c1d6d9a"
      },
      "source": [
        "sqrt(2) ^ 2"
      ],
      "execution_count": null,
      "outputs": [
        {
          "data": {
            "text/html": [
              "2"
            ],
            "text/latex": [
              "2"
            ],
            "text/markdown": [
              "2"
            ],
            "text/plain": [
              "[1] 2"
            ]
          },
          "metadata": {},
          "output_type": "display_data"
        }
      ]
    },
    {
      "cell_type": "markdown",
      "metadata": {
        "id": "x5Cx0QXL7FnZ"
      },
      "source": [
        "If you need to do this, use the `near()` function instead:"
      ]
    },
    {
      "cell_type": "code",
      "metadata": {
        "id": "hZAheApU7FnZ",
        "outputId": "87166e3e-c2ae-4983-f2b0-1930308b952d"
      },
      "source": [
        "near(2, sqrt(2) ^ 2)"
      ],
      "execution_count": null,
      "outputs": [
        {
          "data": {
            "text/html": [
              "TRUE"
            ],
            "text/latex": [
              "TRUE"
            ],
            "text/markdown": [
              "TRUE"
            ],
            "text/plain": [
              "[1] TRUE"
            ]
          },
          "metadata": {},
          "output_type": "display_data"
        }
      ]
    },
    {
      "cell_type": "markdown",
      "metadata": {
        "id": "q2y0D3us7FnZ"
      },
      "source": [
        "### Multiple conditions"
      ]
    },
    {
      "cell_type": "markdown",
      "metadata": {
        "id": "bGym0T7X7Fna"
      },
      "source": [
        "Sometimes you will want to check multiple conditions using an if statement. For example, let's define the function:\n",
        "$$\n",
        "sign(x)=\\begin{cases}\n",
        "-1, x<0\\\\\n",
        "0, x=0\\\\\n",
        "1, x>1\n",
        "\\end{cases}$$"
      ]
    },
    {
      "cell_type": "markdown",
      "metadata": {
        "id": "ToA93a5n7Fna"
      },
      "source": [
        "The general form is\n",
        "\n",
        "```\n",
        "if (this) {\n",
        "   do that\n",
        "} else if (that) {\n",
        "   do something else\n",
        "} else {\n",
        "   \n",
        "}\n",
        "```"
      ]
    },
    {
      "cell_type": "markdown",
      "metadata": {
        "id": "dusx-KgR7Fna"
      },
      "source": [
        "## Function arguments"
      ]
    },
    {
      "cell_type": "markdown",
      "metadata": {
        "id": "Zt2aNkwQ7Fna"
      },
      "source": [
        "Functions can take multiple arguments. Generally they fall into one of two categories:\n",
        "\n",
        "*   Data to be processed by the function, and\n",
        "*   Options, which affect how the data gets processed.\n"
      ]
    },
    {
      "cell_type": "markdown",
      "metadata": {
        "id": "xKHvYrih7Fnb"
      },
      "source": [
        "### Rules for function arguments"
      ]
    },
    {
      "cell_type": "markdown",
      "metadata": {
        "id": "sDxntCV17Fnb"
      },
      "source": [
        "Generally:\n",
        "\n",
        "*   The data parameters should come first; and\n",
        "*   The options should come second, and have sensible defaults."
      ]
    },
    {
      "cell_type": "markdown",
      "metadata": {
        "id": "hkLMPuvR7Fnb"
      },
      "source": [
        "Default parameter values are specified by the option=default notation:"
      ]
    },
    {
      "cell_type": "code",
      "metadata": {
        "id": "I0mtNW5y7Fnb"
      },
      "source": [
        "mean_ci <- function(x, conf = 0.95) {\n",
        "  se <- sd(x) / sqrt(length(x))\n",
        "  alpha <- 1 - conf\n",
        "  mean(x) + se * qnorm(c(alpha / 2, 1 - alpha / 2))\n",
        "}"
      ],
      "execution_count": null,
      "outputs": []
    },
    {
      "cell_type": "markdown",
      "metadata": {
        "id": "9TS9O4Ky7Fnc"
      },
      "source": [
        "\n",
        "When you call a function, you can omit the values of the default arguments. If overriding the default, you should specify the parameter you are overriding and then input the overridden value with an = in between:\n",
        "\n"
      ]
    },
    {
      "cell_type": "markdown",
      "metadata": {
        "id": "JxB8Zyyj7Fnc"
      },
      "source": [
        "```\n",
        "mean_ci(c(1, 2, 3, 4), conf=.99) #yes\n",
        "mean_ci(c(1, 2, 3, 4), .99)  # no\n",
        "\n",
        "```"
      ]
    },
    {
      "cell_type": "markdown",
      "metadata": {
        "id": "LMu9KkIQ7Fnc"
      },
      "source": [
        "## Validation"
      ]
    },
    {
      "cell_type": "markdown",
      "metadata": {
        "id": "W9E0Wt-a7Fnc"
      },
      "source": [
        "When writing functions it's a good idea to validate the input -- that is, make sure it matches your assumptions about what is being passed to the function. Consider the following function which returns the weighted average of a vector:"
      ]
    },
    {
      "cell_type": "code",
      "metadata": {
        "id": "syOp75j37Fnd"
      },
      "source": [
        "w_mean = function(x, w) {\n",
        "    (x * w) / sum(w)\n",
        "}"
      ],
      "execution_count": null,
      "outputs": []
    },
    {
      "cell_type": "markdown",
      "metadata": {
        "id": "LdvbWQ4U7Fnd"
      },
      "source": [
        "This function relies implicitly on the fact that the weight vector `w` is the same length as the input vector `x`. If it's not, you'll get a warning and unexpected behavior."
      ]
    },
    {
      "cell_type": "code",
      "metadata": {
        "id": "xi_7_9Mt7Fnd",
        "outputId": "37aa6d5a-2f6a-455c-e09d-6ae25e7fc3cc"
      },
      "source": [
        "w_mean(c(1,2,3), w=c(1, 2))"
      ],
      "execution_count": null,
      "outputs": [
        {
          "name": "stderr",
          "output_type": "stream",
          "text": [
            "Warning message in x * w:\n",
            "“longer object length is not a multiple of shorter object length”"
          ]
        },
        {
          "data": {
            "text/html": [
              "<ol class=list-inline>\n",
              "\t<li>0.333333333333333</li>\n",
              "\t<li>1.33333333333333</li>\n",
              "\t<li>1</li>\n",
              "</ol>\n"
            ],
            "text/latex": [
              "\\begin{enumerate*}\n",
              "\\item 0.333333333333333\n",
              "\\item 1.33333333333333\n",
              "\\item 1\n",
              "\\end{enumerate*}\n"
            ],
            "text/markdown": [
              "1. 0.333333333333333\n",
              "2. 1.33333333333333\n",
              "3. 1\n",
              "\n",
              "\n"
            ],
            "text/plain": [
              "[1] 0.3333333 1.3333333 1.0000000"
            ]
          },
          "metadata": {},
          "output_type": "display_data"
        }
      ]
    },
    {
      "cell_type": "markdown",
      "metadata": {
        "id": "frXFAL5c7Fne"
      },
      "source": [
        "\n",
        "It's best to make the assumption of equal length explicit by checking it:"
      ]
    },
    {
      "cell_type": "code",
      "metadata": {
        "id": "TfscfLqn7Fne"
      },
      "source": [
        "w_mean = function(x, w) {\n",
        "    stopifnot(length(w) == length(x))\n",
        "    (x * w) / sum(w)\n",
        "}"
      ],
      "execution_count": null,
      "outputs": []
    },
    {
      "cell_type": "code",
      "metadata": {
        "id": "FWRd3ybM7Fne",
        "outputId": "47b87cc3-3983-458f-f793-44bb84e338b3"
      },
      "source": [
        "w_mean(c(1,2,3), w=c(1, 2))"
      ],
      "execution_count": null,
      "outputs": [
        {
          "ename": "ERROR",
          "evalue": "Error in w_mean(c(1, 2, 3), w = c(1, 2)): length(w) == length(x) is not TRUE\n",
          "output_type": "error",
          "traceback": [
            "Error in w_mean(c(1, 2, 3), w = c(1, 2)): length(w) == length(x) is not TRUE\nTraceback:\n",
            "1. w_mean(c(1, 2, 3), w = c(1, 2))",
            "2. stopifnot(length(w) == length(x))   # at line 2 of file <text>"
          ]
        }
      ]
    },
    {
      "cell_type": "markdown",
      "metadata": {
        "id": "k35I5txz7Fne"
      },
      "source": [
        "## ..."
      ]
    },
    {
      "cell_type": "markdown",
      "metadata": {
        "id": "XBhe0PLf7Fnf"
      },
      "source": [
        "Some functions are designed to take a variable number of inputs. We saw this for example with the str_c function:"
      ]
    },
    {
      "cell_type": "code",
      "metadata": {
        "id": "180-AQzh7Fnf",
        "outputId": "874a6745-6fd2-4752-dd8e-7cbead05f46d"
      },
      "source": [
        "stringr::str_c(\"a\", \"b\")\n",
        "stringr::str_c(\"a\", \"b\", \"c\", \"d\")"
      ],
      "execution_count": null,
      "outputs": [
        {
          "data": {
            "text/html": [
              "'ab'"
            ],
            "text/latex": [
              "'ab'"
            ],
            "text/markdown": [
              "'ab'"
            ],
            "text/plain": [
              "[1] \"ab\""
            ]
          },
          "metadata": {},
          "output_type": "display_data"
        },
        {
          "data": {
            "text/html": [
              "'abcd'"
            ],
            "text/latex": [
              "'abcd'"
            ],
            "text/markdown": [
              "'abcd'"
            ],
            "text/plain": [
              "[1] \"abcd\""
            ]
          },
          "metadata": {},
          "output_type": "display_data"
        }
      ]
    },
    {
      "cell_type": "markdown",
      "metadata": {
        "id": "Urr7xzSc7Fnf"
      },
      "source": [
        "To construct a function that takes a variable number of arguments we use the `...` notation:\n",
        "\n",
        "```\n",
        "f = function(...) {\n",
        "    <do something with variable arguments>\n",
        "}\n",
        "\n",
        "```\n",
        "One thing you can do with the ... is pass it to another function:"
      ]
    },
    {
      "cell_type": "code",
      "metadata": {
        "id": "f0LIr9U47Fnf",
        "outputId": "a192abcc-dea5-466f-da97-badf3236963d"
      },
      "source": [
        "commas <- function(...) stringr::str_c(..., collapse = \", \")\n",
        "commas(letters[1:10])"
      ],
      "execution_count": null,
      "outputs": [
        {
          "data": {
            "text/html": [
              "'a, b, c, d, e, f, g, h, i, j'"
            ],
            "text/latex": [
              "'a, b, c, d, e, f, g, h, i, j'"
            ],
            "text/markdown": [
              "'a, b, c, d, e, f, g, h, i, j'"
            ],
            "text/plain": [
              "[1] \"a, b, c, d, e, f, g, h, i, j\""
            ]
          },
          "metadata": {},
          "output_type": "display_data"
        }
      ]
    }
  ]
}